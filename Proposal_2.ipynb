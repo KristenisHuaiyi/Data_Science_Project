{
 "cells": [
  {
   "cell_type": "markdown",
   "id": "834a265a-62f9-4e9e-a7af-973adafcff18",
   "metadata": {
    "tags": []
   },
   "source": [
    "# Heart Failure Project"
   ]
  },
  {
   "cell_type": "markdown",
   "id": "1b5cf12b-19c1-4ab9-ac01-77677a1a0cb8",
   "metadata": {},
   "source": [
    "## Introduction:\n",
    "\n",
    "\"Cardiovascular diseases (CVDs) are the number 1 cause of death globally\" (LARXEL, kaggle) and it is truly concerning how it is taking over many lives, like family members losing their love ones due to it, people needing to live their lives in hospitals, and so on. We hope to be able to use this opportunity to discover different factors that could lead to heart failure and building a model to predict those who are most in need and hopefully get them the medical attention they require. Our main focus of this project is to determine/answer the question: \"which factors have a significant contribution towards heart failure?\". The data we obtained consists of factors such as diabetes, high blood pressure, age, sex, whether someone smokes, and so on. Our goal is to use these factors as predictors to predict if someone should receive medical attention immediately or not. If predictions indicates death, it would suggest doctors to focus on this case immediately to prevent death, and if it indicates they are going to survive, then we would do precautions to prevent them from falling into the categories that might lead them to death. This dataset we gathered is from Kaggle, which was released by user LARXEL in 2020."
   ]
  },
  {
   "cell_type": "code",
   "execution_count": 2,
   "id": "385db9d7-9949-4122-b071-e54e7b01a732",
   "metadata": {
    "tags": []
   },
   "outputs": [
    {
     "name": "stderr",
     "output_type": "stream",
     "text": [
      "── \u001b[1mAttaching packages\u001b[22m ─────────────────────────────────────── tidyverse 1.3.2 ──\n",
      "\u001b[32m✔\u001b[39m \u001b[34mggplot2\u001b[39m 3.4.2     \u001b[32m✔\u001b[39m \u001b[34mpurrr  \u001b[39m 1.0.1\n",
      "\u001b[32m✔\u001b[39m \u001b[34mtibble \u001b[39m 3.2.1     \u001b[32m✔\u001b[39m \u001b[34mdplyr  \u001b[39m 1.1.1\n",
      "\u001b[32m✔\u001b[39m \u001b[34mtidyr  \u001b[39m 1.3.0     \u001b[32m✔\u001b[39m \u001b[34mstringr\u001b[39m 1.5.0\n",
      "\u001b[32m✔\u001b[39m \u001b[34mreadr  \u001b[39m 2.1.3     \u001b[32m✔\u001b[39m \u001b[34mforcats\u001b[39m 0.5.2\n",
      "── \u001b[1mConflicts\u001b[22m ────────────────────────────────────────── tidyverse_conflicts() ──\n",
      "\u001b[31m✖\u001b[39m \u001b[34mdplyr\u001b[39m::\u001b[32mfilter()\u001b[39m masks \u001b[34mstats\u001b[39m::filter()\n",
      "\u001b[31m✖\u001b[39m \u001b[34mdplyr\u001b[39m::\u001b[32mlag()\u001b[39m    masks \u001b[34mstats\u001b[39m::lag()\n",
      "── \u001b[1mAttaching packages\u001b[22m ────────────────────────────────────── tidymodels 1.0.0 ──\n",
      "\n",
      "\u001b[32m✔\u001b[39m \u001b[34mbroom       \u001b[39m 1.0.2     \u001b[32m✔\u001b[39m \u001b[34mrsample     \u001b[39m 1.1.1\n",
      "\u001b[32m✔\u001b[39m \u001b[34mdials       \u001b[39m 1.1.0     \u001b[32m✔\u001b[39m \u001b[34mtune        \u001b[39m 1.0.1\n",
      "\u001b[32m✔\u001b[39m \u001b[34minfer       \u001b[39m 1.0.4     \u001b[32m✔\u001b[39m \u001b[34mworkflows   \u001b[39m 1.1.2\n",
      "\u001b[32m✔\u001b[39m \u001b[34mmodeldata   \u001b[39m 1.0.1     \u001b[32m✔\u001b[39m \u001b[34mworkflowsets\u001b[39m 1.0.0\n",
      "\u001b[32m✔\u001b[39m \u001b[34mparsnip     \u001b[39m 1.0.3     \u001b[32m✔\u001b[39m \u001b[34myardstick   \u001b[39m 1.1.0\n",
      "\u001b[32m✔\u001b[39m \u001b[34mrecipes     \u001b[39m 1.0.4     \n",
      "\n",
      "── \u001b[1mConflicts\u001b[22m ───────────────────────────────────────── tidymodels_conflicts() ──\n",
      "\u001b[31m✖\u001b[39m \u001b[34mscales\u001b[39m::\u001b[32mdiscard()\u001b[39m masks \u001b[34mpurrr\u001b[39m::discard()\n",
      "\u001b[31m✖\u001b[39m \u001b[34mdplyr\u001b[39m::\u001b[32mfilter()\u001b[39m   masks \u001b[34mstats\u001b[39m::filter()\n",
      "\u001b[31m✖\u001b[39m \u001b[34mrecipes\u001b[39m::\u001b[32mfixed()\u001b[39m  masks \u001b[34mstringr\u001b[39m::fixed()\n",
      "\u001b[31m✖\u001b[39m \u001b[34mdplyr\u001b[39m::\u001b[32mlag()\u001b[39m      masks \u001b[34mstats\u001b[39m::lag()\n",
      "\u001b[31m✖\u001b[39m \u001b[34myardstick\u001b[39m::\u001b[32mspec()\u001b[39m masks \u001b[34mreadr\u001b[39m::spec()\n",
      "\u001b[31m✖\u001b[39m \u001b[34mrecipes\u001b[39m::\u001b[32mstep()\u001b[39m   masks \u001b[34mstats\u001b[39m::step()\n",
      "\u001b[34m•\u001b[39m Learn how to get started at \u001b[32mhttps://www.tidymodels.org/start/\u001b[39m\n",
      "\n",
      "Updating HTML index of packages in '.Library'\n",
      "\n",
      "Making 'packages.html' ...\n",
      " done\n",
      "\n"
     ]
    }
   ],
   "source": [
    "library(tidyverse)\n",
    "library(repr)\n",
    "library(tidymodels)\n",
    "options(repr.matrix.max.rows = 6)\n",
    "install.packages(\"kknn\")"
   ]
  },
  {
   "cell_type": "code",
   "execution_count": 3,
   "id": "31d4c14d-0390-445e-a652-9650de8bdfc3",
   "metadata": {
    "tags": []
   },
   "outputs": [
    {
     "name": "stderr",
     "output_type": "stream",
     "text": [
      "\u001b[1mRows: \u001b[22m\u001b[34m299\u001b[39m \u001b[1mColumns: \u001b[22m\u001b[34m13\u001b[39m\n",
      "\u001b[36m──\u001b[39m \u001b[1mColumn specification\u001b[22m \u001b[36m────────────────────────────────────────────────────────\u001b[39m\n",
      "\u001b[1mDelimiter:\u001b[22m \",\"\n",
      "\u001b[32mdbl\u001b[39m (13): age, anaemia, creatinine_phosphokinase, diabetes, ejection_fractio...\n",
      "\n",
      "\u001b[36mℹ\u001b[39m Use `spec()` to retrieve the full column specification for this data.\n",
      "\u001b[36mℹ\u001b[39m Specify the column types or set `show_col_types = FALSE` to quiet this message.\n"
     ]
    },
    {
     "data": {
      "text/html": [
       "<table class=\"dataframe\">\n",
       "<caption>A spec_tbl_df: 299 × 13</caption>\n",
       "<thead>\n",
       "\t<tr><th scope=col>age</th><th scope=col>anaemia</th><th scope=col>creatinine_phosphokinase</th><th scope=col>diabetes</th><th scope=col>ejection_fraction</th><th scope=col>high_blood_pressure</th><th scope=col>platelets</th><th scope=col>serum_creatinine</th><th scope=col>serum_sodium</th><th scope=col>sex</th><th scope=col>smoking</th><th scope=col>time</th><th scope=col>DEATH_EVENT</th></tr>\n",
       "\t<tr><th scope=col>&lt;dbl&gt;</th><th scope=col>&lt;dbl&gt;</th><th scope=col>&lt;dbl&gt;</th><th scope=col>&lt;dbl&gt;</th><th scope=col>&lt;dbl&gt;</th><th scope=col>&lt;dbl&gt;</th><th scope=col>&lt;dbl&gt;</th><th scope=col>&lt;dbl&gt;</th><th scope=col>&lt;dbl&gt;</th><th scope=col>&lt;dbl&gt;</th><th scope=col>&lt;dbl&gt;</th><th scope=col>&lt;dbl&gt;</th><th scope=col>&lt;dbl&gt;</th></tr>\n",
       "</thead>\n",
       "<tbody>\n",
       "\t<tr><td>75</td><td>0</td><td> 582</td><td>0</td><td>20</td><td>1</td><td>265000</td><td>1.9</td><td>130</td><td>1</td><td>0</td><td>4</td><td>1</td></tr>\n",
       "\t<tr><td>55</td><td>0</td><td>7861</td><td>0</td><td>38</td><td>0</td><td>263358</td><td>1.1</td><td>136</td><td>1</td><td>0</td><td>6</td><td>1</td></tr>\n",
       "\t<tr><td>65</td><td>0</td><td> 146</td><td>0</td><td>20</td><td>0</td><td>162000</td><td>1.3</td><td>129</td><td>1</td><td>1</td><td>7</td><td>1</td></tr>\n",
       "\t<tr><td>⋮</td><td>⋮</td><td>⋮</td><td>⋮</td><td>⋮</td><td>⋮</td><td>⋮</td><td>⋮</td><td>⋮</td><td>⋮</td><td>⋮</td><td>⋮</td><td>⋮</td></tr>\n",
       "\t<tr><td>45</td><td>0</td><td>2060</td><td>1</td><td>60</td><td>0</td><td>742000</td><td>0.8</td><td>138</td><td>0</td><td>0</td><td>278</td><td>0</td></tr>\n",
       "\t<tr><td>45</td><td>0</td><td>2413</td><td>0</td><td>38</td><td>0</td><td>140000</td><td>1.4</td><td>140</td><td>1</td><td>1</td><td>280</td><td>0</td></tr>\n",
       "\t<tr><td>50</td><td>0</td><td> 196</td><td>0</td><td>45</td><td>0</td><td>395000</td><td>1.6</td><td>136</td><td>1</td><td>1</td><td>285</td><td>0</td></tr>\n",
       "</tbody>\n",
       "</table>\n"
      ],
      "text/latex": [
       "A spec\\_tbl\\_df: 299 × 13\n",
       "\\begin{tabular}{lllllllllllll}\n",
       " age & anaemia & creatinine\\_phosphokinase & diabetes & ejection\\_fraction & high\\_blood\\_pressure & platelets & serum\\_creatinine & serum\\_sodium & sex & smoking & time & DEATH\\_EVENT\\\\\n",
       " <dbl> & <dbl> & <dbl> & <dbl> & <dbl> & <dbl> & <dbl> & <dbl> & <dbl> & <dbl> & <dbl> & <dbl> & <dbl>\\\\\n",
       "\\hline\n",
       "\t 75 & 0 &  582 & 0 & 20 & 1 & 265000 & 1.9 & 130 & 1 & 0 & 4 & 1\\\\\n",
       "\t 55 & 0 & 7861 & 0 & 38 & 0 & 263358 & 1.1 & 136 & 1 & 0 & 6 & 1\\\\\n",
       "\t 65 & 0 &  146 & 0 & 20 & 0 & 162000 & 1.3 & 129 & 1 & 1 & 7 & 1\\\\\n",
       "\t ⋮ & ⋮ & ⋮ & ⋮ & ⋮ & ⋮ & ⋮ & ⋮ & ⋮ & ⋮ & ⋮ & ⋮ & ⋮\\\\\n",
       "\t 45 & 0 & 2060 & 1 & 60 & 0 & 742000 & 0.8 & 138 & 0 & 0 & 278 & 0\\\\\n",
       "\t 45 & 0 & 2413 & 0 & 38 & 0 & 140000 & 1.4 & 140 & 1 & 1 & 280 & 0\\\\\n",
       "\t 50 & 0 &  196 & 0 & 45 & 0 & 395000 & 1.6 & 136 & 1 & 1 & 285 & 0\\\\\n",
       "\\end{tabular}\n"
      ],
      "text/markdown": [
       "\n",
       "A spec_tbl_df: 299 × 13\n",
       "\n",
       "| age &lt;dbl&gt; | anaemia &lt;dbl&gt; | creatinine_phosphokinase &lt;dbl&gt; | diabetes &lt;dbl&gt; | ejection_fraction &lt;dbl&gt; | high_blood_pressure &lt;dbl&gt; | platelets &lt;dbl&gt; | serum_creatinine &lt;dbl&gt; | serum_sodium &lt;dbl&gt; | sex &lt;dbl&gt; | smoking &lt;dbl&gt; | time &lt;dbl&gt; | DEATH_EVENT &lt;dbl&gt; |\n",
       "|---|---|---|---|---|---|---|---|---|---|---|---|---|\n",
       "| 75 | 0 |  582 | 0 | 20 | 1 | 265000 | 1.9 | 130 | 1 | 0 | 4 | 1 |\n",
       "| 55 | 0 | 7861 | 0 | 38 | 0 | 263358 | 1.1 | 136 | 1 | 0 | 6 | 1 |\n",
       "| 65 | 0 |  146 | 0 | 20 | 0 | 162000 | 1.3 | 129 | 1 | 1 | 7 | 1 |\n",
       "| ⋮ | ⋮ | ⋮ | ⋮ | ⋮ | ⋮ | ⋮ | ⋮ | ⋮ | ⋮ | ⋮ | ⋮ | ⋮ |\n",
       "| 45 | 0 | 2060 | 1 | 60 | 0 | 742000 | 0.8 | 138 | 0 | 0 | 278 | 0 |\n",
       "| 45 | 0 | 2413 | 0 | 38 | 0 | 140000 | 1.4 | 140 | 1 | 1 | 280 | 0 |\n",
       "| 50 | 0 |  196 | 0 | 45 | 0 | 395000 | 1.6 | 136 | 1 | 1 | 285 | 0 |\n",
       "\n"
      ],
      "text/plain": [
       "    age anaemia creatinine_phosphokinase diabetes ejection_fraction\n",
       "1   75  0        582                     0        20               \n",
       "2   55  0       7861                     0        38               \n",
       "3   65  0        146                     0        20               \n",
       "⋮   ⋮   ⋮       ⋮                        ⋮        ⋮                \n",
       "297 45  0       2060                     1        60               \n",
       "298 45  0       2413                     0        38               \n",
       "299 50  0        196                     0        45               \n",
       "    high_blood_pressure platelets serum_creatinine serum_sodium sex smoking\n",
       "1   1                   265000    1.9              130          1   0      \n",
       "2   0                   263358    1.1              136          1   0      \n",
       "3   0                   162000    1.3              129          1   1      \n",
       "⋮   ⋮                   ⋮         ⋮                ⋮            ⋮   ⋮      \n",
       "297 0                   742000    0.8              138          0   0      \n",
       "298 0                   140000    1.4              140          1   1      \n",
       "299 0                   395000    1.6              136          1   1      \n",
       "    time DEATH_EVENT\n",
       "1   4    1          \n",
       "2   6    1          \n",
       "3   7    1          \n",
       "⋮   ⋮    ⋮          \n",
       "297 278  0          \n",
       "298 280  0          \n",
       "299 285  0          "
      ]
     },
     "metadata": {},
     "output_type": "display_data"
    }
   ],
   "source": [
    "read_data_from_link <- read_csv(\"https://raw.githubusercontent.com/KristenisHuaiyi/Data_Science_Project/main/heart_failure_clinical_records_dataset.csv\")\n",
    "read_data_from_link"
   ]
  },
  {
   "cell_type": "code",
   "execution_count": 4,
   "id": "63ae61a5-4265-4606-9945-f8f1410b3536",
   "metadata": {
    "tags": []
   },
   "outputs": [
    {
     "data": {
      "text/html": [
       "<table class=\"dataframe\">\n",
       "<caption>A tibble: 299 × 7</caption>\n",
       "<thead>\n",
       "\t<tr><th scope=col>age</th><th scope=col>diabetes</th><th scope=col>ejection_fraction</th><th scope=col>serum_creatinine</th><th scope=col>high_blood_pressure</th><th scope=col>smoking</th><th scope=col>survived</th></tr>\n",
       "\t<tr><th scope=col>&lt;dbl&gt;</th><th scope=col>&lt;lgl&gt;</th><th scope=col>&lt;dbl&gt;</th><th scope=col>&lt;dbl&gt;</th><th scope=col>&lt;lgl&gt;</th><th scope=col>&lt;lgl&gt;</th><th scope=col>&lt;fct&gt;</th></tr>\n",
       "</thead>\n",
       "<tbody>\n",
       "\t<tr><td>75</td><td>FALSE</td><td>20</td><td>1.9</td><td> TRUE</td><td>FALSE</td><td>No</td></tr>\n",
       "\t<tr><td>55</td><td>FALSE</td><td>38</td><td>1.1</td><td>FALSE</td><td>FALSE</td><td>No</td></tr>\n",
       "\t<tr><td>65</td><td>FALSE</td><td>20</td><td>1.3</td><td>FALSE</td><td> TRUE</td><td>No</td></tr>\n",
       "\t<tr><td>⋮</td><td>⋮</td><td>⋮</td><td>⋮</td><td>⋮</td><td>⋮</td><td>⋮</td></tr>\n",
       "\t<tr><td>45</td><td> TRUE</td><td>60</td><td>0.8</td><td>FALSE</td><td>FALSE</td><td>Yes</td></tr>\n",
       "\t<tr><td>45</td><td>FALSE</td><td>38</td><td>1.4</td><td>FALSE</td><td> TRUE</td><td>Yes</td></tr>\n",
       "\t<tr><td>50</td><td>FALSE</td><td>45</td><td>1.6</td><td>FALSE</td><td> TRUE</td><td>Yes</td></tr>\n",
       "</tbody>\n",
       "</table>\n"
      ],
      "text/latex": [
       "A tibble: 299 × 7\n",
       "\\begin{tabular}{lllllll}\n",
       " age & diabetes & ejection\\_fraction & serum\\_creatinine & high\\_blood\\_pressure & smoking & survived\\\\\n",
       " <dbl> & <lgl> & <dbl> & <dbl> & <lgl> & <lgl> & <fct>\\\\\n",
       "\\hline\n",
       "\t 75 & FALSE & 20 & 1.9 &  TRUE & FALSE & No\\\\\n",
       "\t 55 & FALSE & 38 & 1.1 & FALSE & FALSE & No\\\\\n",
       "\t 65 & FALSE & 20 & 1.3 & FALSE &  TRUE & No\\\\\n",
       "\t ⋮ & ⋮ & ⋮ & ⋮ & ⋮ & ⋮ & ⋮\\\\\n",
       "\t 45 &  TRUE & 60 & 0.8 & FALSE & FALSE & Yes\\\\\n",
       "\t 45 & FALSE & 38 & 1.4 & FALSE &  TRUE & Yes\\\\\n",
       "\t 50 & FALSE & 45 & 1.6 & FALSE &  TRUE & Yes\\\\\n",
       "\\end{tabular}\n"
      ],
      "text/markdown": [
       "\n",
       "A tibble: 299 × 7\n",
       "\n",
       "| age &lt;dbl&gt; | diabetes &lt;lgl&gt; | ejection_fraction &lt;dbl&gt; | serum_creatinine &lt;dbl&gt; | high_blood_pressure &lt;lgl&gt; | smoking &lt;lgl&gt; | survived &lt;fct&gt; |\n",
       "|---|---|---|---|---|---|---|\n",
       "| 75 | FALSE | 20 | 1.9 |  TRUE | FALSE | No |\n",
       "| 55 | FALSE | 38 | 1.1 | FALSE | FALSE | No |\n",
       "| 65 | FALSE | 20 | 1.3 | FALSE |  TRUE | No |\n",
       "| ⋮ | ⋮ | ⋮ | ⋮ | ⋮ | ⋮ | ⋮ |\n",
       "| 45 |  TRUE | 60 | 0.8 | FALSE | FALSE | Yes |\n",
       "| 45 | FALSE | 38 | 1.4 | FALSE |  TRUE | Yes |\n",
       "| 50 | FALSE | 45 | 1.6 | FALSE |  TRUE | Yes |\n",
       "\n"
      ],
      "text/plain": [
       "    age diabetes ejection_fraction serum_creatinine high_blood_pressure smoking\n",
       "1   75  FALSE    20                1.9               TRUE               FALSE  \n",
       "2   55  FALSE    38                1.1              FALSE               FALSE  \n",
       "3   65  FALSE    20                1.3              FALSE                TRUE  \n",
       "⋮   ⋮   ⋮        ⋮                 ⋮                ⋮                   ⋮      \n",
       "297 45   TRUE    60                0.8              FALSE               FALSE  \n",
       "298 45  FALSE    38                1.4              FALSE                TRUE  \n",
       "299 50  FALSE    45                1.6              FALSE                TRUE  \n",
       "    survived\n",
       "1   No      \n",
       "2   No      \n",
       "3   No      \n",
       "⋮   ⋮       \n",
       "297 Yes     \n",
       "298 Yes     \n",
       "299 Yes     "
      ]
     },
     "metadata": {},
     "output_type": "display_data"
    }
   ],
   "source": [
    "#wrangling the data by selecting the predictors we would work with and \n",
    "#converting the response variable DEATH_EVENT to the factor datatype and renaming it to \"survived\"\n",
    "#converting the predicting variables that has results 0 or 1 to the logical datatype so it shows as TRUE or FALSE\n",
    "\n",
    "data_wrangled <- read_data_from_link |> \n",
    "            select(age, diabetes, ejection_fraction, serum_creatinine, high_blood_pressure, smoking, DEATH_EVENT) |>\n",
    "            mutate(DEATH_EVENT = as_factor(DEATH_EVENT)) |>\n",
    "            mutate(DEATH_EVENT = fct_recode(DEATH_EVENT, \"Yes\" = \"0\", \"No\" = \"1\")) |>\n",
    "            rename(\"survived\" = \"DEATH_EVENT\") |>\n",
    "            mutate(diabetes = as.logical(diabetes)) |>\n",
    "            mutate(high_blood_pressure = as.logical(high_blood_pressure)) |>\n",
    "            mutate(smoking = as.logical(smoking))    \n",
    "\n",
    "data_wrangled"
   ]
  },
  {
   "cell_type": "code",
   "execution_count": null,
   "id": "ec7b75fd-f690-4773-898e-bdf41268717b",
   "metadata": {},
   "outputs": [],
   "source": []
  }
 ],
 "metadata": {
  "kernelspec": {
   "display_name": "R",
   "language": "R",
   "name": "ir"
  },
  "language_info": {
   "codemirror_mode": "r",
   "file_extension": ".r",
   "mimetype": "text/x-r-source",
   "name": "R",
   "pygments_lexer": "r",
   "version": "4.2.2"
  }
 },
 "nbformat": 4,
 "nbformat_minor": 5
}
