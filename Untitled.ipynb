{
 "cells": [
  {
   "cell_type": "markdown",
   "id": "24035391-5e39-4ba4-9822-f06a0dceed50",
   "metadata": {},
   "source": [
    "TEST"
   ]
  }
 ],
 "metadata": {
  "kernelspec": {
   "display_name": "R",
   "language": "R",
   "name": "ir"
  },
  "language_info": {
   "codemirror_mode": "r",
   "file_extension": ".r",
   "mimetype": "text/x-r-source",
   "name": "R",
   "pygments_lexer": "r",
   "version": "4.2.2"
  }
 },
 "nbformat": 4,
 "nbformat_minor": 5
}
