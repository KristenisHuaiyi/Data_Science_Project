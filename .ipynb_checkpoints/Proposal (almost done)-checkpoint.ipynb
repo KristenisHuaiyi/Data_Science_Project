{
 "cells": [
  {
   "cell_type": "markdown",
   "id": "40758964-a10c-4cb5-ab56-2a6dccc81882",
   "metadata": {},
   "source": [
    "Heart Failure Prediction"
   ]
  },
  {
   "cell_type": "markdown",
   "id": "eda0d63c-0863-4702-a17a-5141b4894909",
   "metadata": {},
   "source": [
    "Our main focus of this project is to determine which factors have a significant contribution towards heart failure. The data we obtained consists of factors such as diabetes, high blood pressure, age, sex, whether someone smokes, and so on. Our goal is to use these factors as predictors to predict if someone should receive medical attention immediately or not. If predictions indicates death, it would suggest doctors to focus on this case immediately to prevent death, and if it indicates they are going to survive, then we would do precautions to prevent them from falling into the categories that might lead them to death. "
   ]
  },
  {
   "cell_type": "markdown",
   "id": "d73fe680-ec5e-4185-a066-d492579034a8",
   "metadata": {},
   "source": [
    "This dataset we gathered is from Kaggle, which was released by user LARXEL in 2020."
   ]
  },
  {
   "cell_type": "code",
   "execution_count": null,
   "id": "c7e37703-bb12-4f0e-9101-4fcc783e0cf4",
   "metadata": {
    "tags": []
   },
   "outputs": [],
   "source": [
    "library(tidyverse)\n",
    "library(repr)\n",
    "library(tidymodels)\n",
    "options(repr.matrix.max.rows = 6)\n",
    "install.packages(\"kknn\")"
   ]
  },
  {
   "cell_type": "code",
   "execution_count": null,
   "id": "6a655443-51d5-4a73-a159-4ef18398381c",
   "metadata": {},
   "outputs": [],
   "source": [
    "#Use read_csv to load the dataset into R\n",
    "data <- read_csv(\"data/heart_failure_clinical_records_dataset.csv.xls\")\n",
    "data"
   ]
  },
  {
   "cell_type": "code",
   "execution_count": null,
   "id": "9370ea63-3f20-4d57-b9ee-799a4935d612",
   "metadata": {},
   "outputs": [],
   "source": [
    "#Find number of rows and columns of dataset.\n",
    "data_nrow <- nrow(data)\n",
    "data_nrow\n",
    "\n",
    "data_ncol <- ncol(data)\n",
    "data_ncol"
   ]
  },
  {
   "cell_type": "markdown",
   "id": "3c6688b2-2019-4dce-b79a-626799ec472a",
   "metadata": {},
   "source": [
    "This dataset consists of 299 rows and 13 columns. The DEATH_EVENT variable has values 0 (survived) and 1 (died) and as stated above, we will use this to gain some understanding of a person’s medical condition to further prevent death of others. In other words, we will use data of patients who survived or died to determine if someone needs to seek medical attention immediately. We will use some of these columns to explore our data. In the event where the data is not sufficient, we will gather more data from other sources such as ourworldindata.org."
   ]
  },
  {
   "cell_type": "code",
   "execution_count": null,
   "id": "2682523a-b472-41a3-90ac-c96c597ae194",
   "metadata": {},
   "outputs": [],
   "source": [
    "#wrangling the data by selecting the predictors we would work with and \n",
    "#converting the response variable DEATH_EVENT to the factor datatype\n",
    "#converting the predicting variables that has results 0 or 1 to the logical datatype so it shows as TRUE or FALSE\n",
    "\n",
    "data_wrangled <- data |> \n",
    "            select(age, diabetes, ejection_fraction, high_blood_pressure, smoking, DEATH_EVENT) |>\n",
    "            mutate(DEATH_EVENT = as_factor(DEATH_EVENT)) |>\n",
    "            mutate(DEATH_EVENT = fct_recode(DEATH_EVENT, \"Yes\" = \"0\", \"No\" = \"1\")) |>\n",
    "            rename(\"survived\" = \"DEATH_EVENT\") |>\n",
    "            mutate(diabetes = as.logical(diabetes)) |>\n",
    "            mutate(high_blood_pressure = as.logical(high_blood_pressure)) |>\n",
    "            mutate(smoking = as.logical(smoking))    \n",
    "\n",
    "data_wrangled"
   ]
  },
  {
   "cell_type": "markdown",
   "id": "34ed7a79-d6e8-41fd-8573-fcc7ddab13e0",
   "metadata": {},
   "source": [
    "We are mainly going to focus on these 5 predictors (age, diabetes, ejection fraction, high blood pressure, and smoking) for now to see if they correlate to heart failure. "
   ]
  },
  {
   "cell_type": "code",
   "execution_count": null,
   "id": "3505b645-ebc7-4702-b10b-8be95412b6aa",
   "metadata": {},
   "outputs": [],
   "source": [
    "#set the random seed in R\n",
    "set.seed(1)\n",
    "\n",
    "#split the data into training and testing set\n",
    "heart_split <- initial_split(data_wrangled, prop = 0.75, strata = survived)\n",
    "heart_train <- training(heart_split)\n",
    "heart_test <- testing(heart_split)\n",
    "\n",
    "heart_train\n",
    "heart_test"
   ]
  },
  {
   "cell_type": "code",
   "execution_count": null,
   "id": "c24058cc-1133-49d3-abc7-d083199aecea",
   "metadata": {},
   "outputs": [],
   "source": [
    "#the number of observations in the training set\n",
    "train_nrow <- nrow(heart_train)\n",
    "any_missing_data <- sum(is.na(heart_train))\n",
    "summarize(heart_train, train_nrow, any_missing_data)"
   ]
  },
  {
   "cell_type": "markdown",
   "id": "da7f7199-c0ea-4f95-a392-b46cc2b44e09",
   "metadata": {},
   "source": [
    "Our training data consists of 224 rows and we have no missing data."
   ]
  },
  {
   "cell_type": "code",
   "execution_count": null,
   "id": "08252109-f66c-4883-9c4d-a57616181253",
   "metadata": {},
   "outputs": [],
   "source": [
    "#summarize values for subgroups \"survived\" or \"died\" within the training data set\n",
    "survive_or_death_summarize <- heart_train |> \n",
    "                           group_by(survived) |>\n",
    "                           summarise(count = n())\n",
    "survive_or_death_summarize"
   ]
  },
  {
   "cell_type": "markdown",
   "id": "b23a41c5-1a13-4b29-b6ca-09dcf0961e09",
   "metadata": {},
   "source": [
    "Out of the 224 rows of training data, 152 are people who survived and 72 are people who died."
   ]
  },
  {
   "cell_type": "code",
   "execution_count": null,
   "id": "2c819a45-fb15-4fea-8b68-9aa149bf07a6",
   "metadata": {},
   "outputs": [],
   "source": [
    "#summarize variables that are double\n",
    "summarize_age <- heart_train |>\n",
    "                 summarize(variable = \"age\", \n",
    "                           min = min(age), \n",
    "                           max = max(age), \n",
    "                           mean = mean(age))\n",
    "summarize_ejection_fraction <- heart_train |>\n",
    "                               summarize(variable = \"ejection_fraction\", \n",
    "                                         min = min(ejection_fraction), \n",
    "                                         max = max(ejection_fraction),\n",
    "                                         mean = mean(ejection_fraction))\n",
    "\n",
    "train_summarized <- rbind(summarize_age, summarize_ejection_fraction)\n",
    "train_summarized"
   ]
  },
  {
   "cell_type": "markdown",
   "id": "62be9b88-241f-491a-b193-0ee9a1461332",
   "metadata": {},
   "source": [
    "We summarized variables that are double to see the min, max, and mean. (Did not do this for variables that are logical since it is just a TRUE or FALSE observation.)"
   ]
  },
  {
   "cell_type": "markdown",
   "id": "503d357b-153e-41ea-aeec-866c863871b2",
   "metadata": {},
   "source": [
    "Now, using our training data, we will see if any of our predictors have a relationship with each other (2 predictors) that indicates heart failure or if any of the predictors independently indicates a heart failure (1 predictor). Here are some plots:"
   ]
  },
  {
   "cell_type": "code",
   "execution_count": null,
   "id": "6be7ad2d-dbff-4e2b-b6e4-092de83af551",
   "metadata": {},
   "outputs": [],
   "source": [
    "#set our graph to a proper size for visualization\n",
    "options(repr.plot.width = 8, repr.plot.height = 6)\n",
    "\n",
    "#visualize the data with a scatter plot\n",
    "train_graph_point <- heart_train |>\n",
    "            ggplot(aes(x = age, y = ejection_fraction, color = survived)) +\n",
    "            geom_point() + \n",
    "            labs(x = \"Age\", \n",
    "                 y = \"Percentage of Blood Leaving the Heart at Each Contraction (%)\",\n",
    "                 color = \"Survived?\") +\n",
    "            theme(text = element_text(size = 12)) +\n",
    "            ggtitle(\"Is There A Relationship Between Percentage Of Blood Leaving \\n The Heart At Each Contraction and Age?\") \n",
    "train_graph_point"
   ]
  },
  {
   "cell_type": "markdown",
   "id": "da5c3671-3802-4858-9094-32bd97af06cd",
   "metadata": {},
   "source": [
    "We hypothesized age and the percentage of blood leaving the heart at each contraction to have a relationship so we plotted this graph. The relationship is pretty weak but we could see that those who survived are generally younger and that the percentage of blood leaving the heart at each contraction is relatively average or above average. "
   ]
  },
  {
   "cell_type": "code",
   "execution_count": null,
   "id": "9a4264bf-e765-4986-a069-5f531d127e6b",
   "metadata": {},
   "outputs": [],
   "source": [
    "options(repr.plot.width = 8, repr.plot.height = 6)\n",
    "train_graph <- heart_train |>\n",
    "            ggplot(aes(x = age, fill = survived)) +\n",
    "            geom_histogram() + \n",
    "            labs(x = \"age\",\n",
    "                 fill = \"Survived?\") +\n",
    "            theme(text = element_text(size = 14)) +\n",
    "            ggtitle(\"Distribution of Died or Survived according to Age\")\n",
    "train_graph"
   ]
  },
  {
   "cell_type": "markdown",
   "id": "f8edab7e-37ee-440e-a7e4-e5e011b22dc0",
   "metadata": {},
   "source": [
    "This histogram plot does not show a clear relationship too, but we should be aware that at older ages, those who died outnumbers those who survived (for most bars) considering that the data for people who died is almost half of those that survived (Recall: Survived total: 152; Died total: 72). We can tell that age could be a factor, but there is definitely other factors that influence heart failure too. "
   ]
  },
  {
   "cell_type": "code",
   "execution_count": null,
   "id": "1845041d-fc1f-40fe-88e9-d7401b15d38e",
   "metadata": {},
   "outputs": [],
   "source": [
    "options(repr.plot.width = 8, repr.plot.height = 6)\n",
    "train_graph_2 <- heart_train |>\n",
    "            ggplot(aes(x = ejection_fraction, fill = survived)) +\n",
    "            geom_histogram() + \n",
    "            labs(x = \"Percentage of Blood Leaving the Heart (%)\",\n",
    "                 fill = \"Survived?\") +\n",
    "            theme(text = element_text(size = 14)) +\n",
    "            ggtitle(\"Distribution of Died or Survived according to Percentage of \\n Blood Leaving the Heart\")\n",
    "train_graph_2"
   ]
  },
  {
   "cell_type": "markdown",
   "id": "94a81c5c-c13b-4c73-bfa1-f329de4992c8",
   "metadata": {},
   "source": [
    "This histogram plot does not show a clear relationship too but overall we could see that lower percentage of blood leaving the heart causes increased death. "
   ]
  },
  {
   "cell_type": "markdown",
   "id": "c6c0a0ea-d075-424b-8b31-636730b09055",
   "metadata": {},
   "source": [
    "Since this is just the exploratory phase, we chose to mainly focus on these two predictor variables to get ourselves on the right track and we will work our way towards the remaining three predictor variables in the next few weeks. "
   ]
  },
  {
   "cell_type": "markdown",
   "id": "90d6753a-e8a6-4205-a394-bfc4ea0e4c03",
   "metadata": {},
   "source": [
    "We will conduct our data analysis with all 5 of our predictor variables, find the most suitable k-values for them, and see which one yields the best accuracy. We will then use the one with the highest accuracy to predict which class they belong to and determine if they would need immediate medical attention. "
   ]
  }
 ],
 "metadata": {
  "kernelspec": {
   "display_name": "R",
   "language": "R",
   "name": "ir"
  },
  "language_info": {
   "name": ""
  }
 },
 "nbformat": 4,
 "nbformat_minor": 5
}
